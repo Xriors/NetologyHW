{
 "cells": [
  {
   "cell_type": "code",
   "execution_count": 8,
   "metadata": {},
   "outputs": [
    {
     "data": {
      "text/plain": [
       "False"
      ]
     },
     "execution_count": 8,
     "metadata": {},
     "output_type": "execute_result"
    }
   ],
   "source": [
    "long_phrase = 'Наы не заказчики'\n",
    "short_phrase = '640Кб должно хватить для любых задач. Билл Гейтс (по легенде)'\n",
    "len (long_phrase) > len (short_phrase)"
   ]
  },
  {
   "cell_type": "code",
   "execution_count": 153,
   "metadata": {},
   "outputs": [
    {
     "name": "stdout",
     "output_type": "stream",
     "text": [
      "Сколько байт: 20000\n",
      "0.019073486328125\n"
     ]
    }
   ],
   "source": [
    "bite_input = int (input('Сколько байт: '))\n",
    "print(bite_input/pow(2,20))"
   ]
  },
  {
   "cell_type": "code",
   "execution_count": null,
   "metadata": {},
   "outputs": [],
   "source": [
    "month_intput = input ('Ведите месяц: ') \n",
    "date_input = int (input('Введите число '))\n",
    "if month_intput in 'Март'+'Апрель':\n",
    "    if month_intput in 'Март' and (date_input >= 21 and date_input <= 31):\n",
    "            print('Овен')\n",
    "    if month_intput in 'Апрель' and (date_input >= 1 and date_input <= 20):\n",
    "            print('Овен')\n",
    "            \n",
    "if month_intput in 'Апрель'+'Май':\n",
    "    if month_intput in 'Апрель' and (date_input >= 21 and date_input <= 30):\n",
    "            print('Телец')\n",
    "    if month_intput in 'Май' and (date_input >= 1 and date_input <= 20):\n",
    "            print('Телец')  \n",
    "            \n",
    "if month_intput in 'Май'+'Июнь':\n",
    "    if month_intput in 'Май' and (date_input >= 22 and date_input <= 31):\n",
    "            print('Близнецы')\n",
    "    if month_intput in 'Июнь' and (date_input >= 1 and date_input <= 21):\n",
    "            print('Близнецы')  \n",
    "            \n",
    "if month_intput in 'Июнь'+'Июль':\n",
    "    if month_intput in 'Июнь' and (date_input >= 22 and date_input <= 31):\n",
    "            print('Рак')\n",
    "    if month_intput in 'Июль' and (date_input >= 1 and date_input <= 22):\n",
    "            print('Рак')\n",
    "\n",
    "            \n",
    "if month_intput in 'Июль'+'Август':\n",
    "    if month_intput in 'Июль' and (date_input >= 23 and date_input <= 31):\n",
    "            print('Лев')\n",
    "    if month_intput in 'Август' and (date_input >= 1 and date_input <= 23):\n",
    "            print('Лев')\n",
    "            \n",
    "if month_intput in 'Август'+'Сентябрь':\n",
    "    if month_intput in 'Август' and (date_input >= 24 and date_input <= 31):\n",
    "            print('Дева')\n",
    "    if month_intput in 'Сентябрь' and (date_input >= 1 and date_input <= 23):\n",
    "            print('Дева')\n",
    "            \n",
    "if month_intput in 'Сентябрь'+'Октябрь':\n",
    "    if month_intput in 'Сентябрь' and (date_input >= 24 and date_input <= 31):\n",
    "            print('Весульки')\n",
    "    if month_intput in 'Октябрь' and (date_input >= 1 and date_input <= 23):\n",
    "            print('Весульки')\n",
    "                        \n",
    "if month_intput in 'Октябрь'+'Ноябрь':\n",
    "    if month_intput in 'Октябрь' and (date_input >= 24 and date_input <= 31):\n",
    "            print('Скорпы')\n",
    "    if month_intput in 'Ноябрь' and (date_input >= 1 and date_input <= 22):\n",
    "            print('Скорпы')\n",
    "                        \n",
    "if month_intput in 'Ноябрь'+'Декабрь':\n",
    "    if month_intput in 'Ноябрь' and (date_input >= 23 and date_input <= 31):\n",
    "            print('Стрелы')\n",
    "    if month_intput in 'Декабрь' and (date_input >= 1 and date_input <= 21):\n",
    "            print('Стрелы')\n",
    "\n",
    "if month_intput in 'Декабрь'+'Январь':\n",
    "    if month_intput in 'Декабрь' and (date_input >= 22 and date_input <= 31):\n",
    "            print('Козлы')\n",
    "    if month_intput in 'Январь' and (date_input >= 1 and date_input <= 20):\n",
    "            print('Козлы')\n",
    "\n",
    "if month_intput in 'Январь'+'Февраль':\n",
    "    if month_intput in 'Январь' and (date_input >= 21 and date_input <= 31):\n",
    "            print('Водка')\n",
    "    if month_intput in 'Февраль' and (date_input >= 1 and date_input <= 18):\n",
    "            print('Водка')\n",
    "            \n",
    "if month_intput in 'Февраль'+'Март':\n",
    "    if month_intput in 'Февраль' and (date_input >= 19 and date_input <= 31):\n",
    "            print('Караси')\n",
    "    if month_intput in 'Март' and (date_input >= 1 and date_input <= 20):\n",
    "            print('Караси')\n"
   ]
  },
  {
   "cell_type": "code",
   "execution_count": 154,
   "metadata": {},
   "outputs": [
    {
     "name": "stdout",
     "output_type": "stream",
     "text": [
      "Ваша зп: 100000\n",
      "Сколько процентов на ипотеку: 30\n",
      "Процентов на расходы: 50\n",
      "Сколько премий: 2\n",
      "----Ваши затраты на ипотеку:  360000\n",
      "----Накопленное за год 340000\n"
     ]
    }
   ],
   "source": [
    "month_profit = int(input('Ваша зп: '))\n",
    "month_credit = int(input('Сколько процентов на ипотеку: '))\n",
    "month_exp = int(input('Процентов на расходы: '))\n",
    "bonus_profit = int(input('Сколько премий: '))\n",
    "credit = ((month_profit * month_credit) // 100) * 12\n",
    "profit = ((month_profit * month_exp) // 100) * 12\n",
    "break_bonus = ((month_profit * bonus_profit) // 2)\n",
    "print('----Ваши затраты на ипотеку: ',credit)\n",
    "print('----Накопленное за год', (((month_profit)*12 - credit - profit)+break_bonus))"
   ]
  },
  {
   "cell_type": "code",
   "execution_count": 121,
   "metadata": {},
   "outputs": [
    {
     "data": {
      "text/plain": [
       "0.01"
      ]
     },
     "execution_count": 121,
     "metadata": {},
     "output_type": "execute_result"
    }
   ],
   "source": [
    "\n"
   ]
  },
  {
   "cell_type": "code",
   "execution_count": 151,
   "metadata": {},
   "outputs": [
    {
     "name": "stdout",
     "output_type": "stream",
     "text": [
      "1.9073486328125\n"
     ]
    }
   ],
   "source": []
  },
  {
   "cell_type": "code",
   "execution_count": null,
   "metadata": {},
   "outputs": [],
   "source": []
  }
 ],
 "metadata": {
  "kernelspec": {
   "display_name": "Python 3",
   "language": "python",
   "name": "python3"
  },
  "language_info": {
   "codemirror_mode": {
    "name": "ipython",
    "version": 3
   },
   "file_extension": ".py",
   "mimetype": "text/x-python",
   "name": "python",
   "nbconvert_exporter": "python",
   "pygments_lexer": "ipython3",
   "version": "3.8.3"
  }
 },
 "nbformat": 4,
 "nbformat_minor": 4
}
