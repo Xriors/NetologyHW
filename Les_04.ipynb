{
 "cells": [
  {
   "cell_type": "code",
   "execution_count": 426,
   "metadata": {},
   "outputs": [
    {
     "name": "stdin",
     "output_type": "stream",
     "text": [
      "Word is :  fgfgfg\n"
     ]
    },
    {
     "name": "stdout",
     "output_type": "stream",
     "text": [
      "fg\n"
     ]
    }
   ],
   "source": [
    "word_input = input('Word is : ')\n",
    "word_len = len(word_input)\n",
    "if word_len % 2 == 0:\n",
    "    word_len = (word_len // 2) - 1\n",
    "    print(word_input[word_len:(word_len+2)])\n",
    "else:\n",
    "    word_len = (word_len // 2)\n",
    "    print(word_input[word_len])"
   ]
  },
  {
   "cell_type": "code",
   "execution_count": 428,
   "metadata": {},
   "outputs": [
    {
     "name": "stdin",
     "output_type": "stream",
     "text": [
      " 0\n"
     ]
    },
    {
     "name": "stdout",
     "output_type": "stream",
     "text": [
      "0\n"
     ]
    }
   ],
   "source": [
    "i = 1\n",
    "sum_input = 0\n",
    "while i != 0:\n",
    "    input_int = int(input())\n",
    "    i = input_int\n",
    "    sum_input = input_int + sum_input\n",
    "print(sum_input)   "
   ]
  },
  {
   "cell_type": "code",
   "execution_count": 430,
   "metadata": {},
   "outputs": [
    {
     "name": "stdout",
     "output_type": "stream",
     "text": [
      "Нет пар\n"
     ]
    }
   ],
   "source": [
    "boys = ['Peter', 'ATTTRRRR', 'John', 'Arthur', 'Richard']\n",
    "girls = ['Kate', 'Liza', 'Kira', 'EER', 'Trisha','fhfhf']\n",
    "i = 0\n",
    "if len(boys) == len(girls):\n",
    "    boys = sorted(boys)\n",
    "    girls = sorted(girls)\n",
    "    for key in boys :\n",
    "        print(boys[i],' and ', girls[i])\n",
    "        i = int(i+1)\n",
    "else:\n",
    "    print('Нет пар')\n",
    "    "
   ]
  },
  {
   "cell_type": "code",
   "execution_count": 1,
   "metadata": {},
   "outputs": [
    {
     "name": "stdout",
     "output_type": "stream",
     "text": [
      "Средняя температура:\n",
      "в стране Thailand - 23.9\n",
      "в стране Germany - 118.2\n",
      "в стране Russia - 3.4\n",
      "в стране Poland - 5331095.7\n"
     ]
    }
   ],
   "source": [
    "countries_temperature = [\n",
    "    ['Thailand', [75.2, 77, 78.8, 73.4, 68, 75.2, 77]],\n",
    "    ['Germany', [57.2, 55.4, 1000, 59, 53.6]],\n",
    "    ['Russia', [35.6, 37.4, 39.2, 41, 42.8, 39.2, 35.6]],\n",
    "    ['Poland', [50, 50, 57575757.6, 57.2, 55.4, 55.4]]\n",
    "]\n",
    "temp = 0\n",
    "i = 0\n",
    "x = 0\n",
    "key_temp = 0\n",
    "average_num = []\n",
    "print('Средняя температура:')\n",
    "for key in countries_temperature:\n",
    "    tempC_sum = 0\n",
    "    average_temp = 0\n",
    "    list_temp_C = []\n",
    "    countr_1 = countries_temperature[i]\n",
    "    temp = countr_1[1]\n",
    "    for key_temp in temp:\n",
    "        cel_convert = (temp[x] - 32)*(5/9)\n",
    "        list_temp_C.append(cel_convert)\n",
    "        tempC_sum = int(list_temp_C[x]) + tempC_sum\n",
    "        x += 1\n",
    "    average_temp = tempC_sum / len(temp)\n",
    "    print('в стране', countr_1[0], '-', \"%.1f\" % average_temp)\n",
    "    x = 0\n",
    "    i = i + 1"
   ]
  },
  {
   "cell_type": "code",
   "execution_count": 485,
   "metadata": {},
   "outputs": [
    {
     "name": "stdout",
     "output_type": "stream",
     "text": [
      "Среднее количество посещений дебилов:  18.6\n"
     ]
    },
    {
     "data": {
      "text/plain": [
       "5"
      ]
     },
     "execution_count": 485,
     "metadata": {},
     "output_type": "execute_result"
    }
   ],
   "source": [
    "stream = [\n",
    "    '2018-01-01,user1,3',\n",
    "    '2018-01-07,user1,4',\n",
    "    '2018-03-29,user1,1',\n",
    "    '2018-04-04,user1,13',\n",
    "    '2018-01-05,user2,7',\n",
    "    '2018-06-14,user3,4',\n",
    "    '2018-07-02,user3,10',\n",
    "    '2018-03-21,user4,19',\n",
    "    '2018-03-22,user4,4',\n",
    "    '2018-04-22,user4,8',\n",
    "    '2018-05-03,user43,9',\n",
    "    '2018-05-11,user4,11',\n",
    "]\n",
    "key = 0\n",
    "i = 0\n",
    "key_str = 0\n",
    "words_user = []\n",
    "summ_count = 0\n",
    "for key in stream:\n",
    "    read_str = stream[i]\n",
    "    list_words = read_str.split(',')\n",
    "    words_user.append(list_words[1])  \n",
    "    summ_count = int(list_words[2]) + summ_count\n",
    "    i += 1\n",
    "words_user = len(list(set(words_user)))\n",
    "average_number = summ_count / words_user\n",
    "print( 'Среднее количество посещений дебилов: ', average_number)\n",
    "words_user\n",
    "\n"
   ]
  },
  {
   "cell_type": "code",
   "execution_count": 6,
   "metadata": {},
   "outputs": [
    {
     "name": "stdin",
     "output_type": "stream",
     "text": [
      " 2 2 2 3 3 5\n"
     ]
    },
    {
     "name": "stdout",
     "output_type": "stream",
     "text": [
      "['3', '2']\n"
     ]
    }
   ],
   "source": [
    "input_list = list(input().split())\n",
    "f_num = []\n",
    "doble_num = []\n",
    "i = 0\n",
    "key = 0\n",
    "for key in input_list:\n",
    "    if input_list[i] not in f_num:\n",
    "        f_num.append(input_list[i])\n",
    "    else:\n",
    "        doble_num.append(input_list[i])\n",
    "    i += 1\n",
    "print(list(set(doble_num)))"
   ]
  },
  {
   "cell_type": "code",
   "execution_count": 38,
   "metadata": {},
   "outputs": [
    {
     "name": "stdout",
     "output_type": "stream",
     "text": [
      "Документ на полке:  ['5']\n"
     ]
    }
   ],
   "source": [
    "documents = [\n",
    " {'type': 'passport', 'number': '2207 876234', 'name': 'Василий Гупкин'},\n",
    " {'type': 'invoice', 'number': '11-2', 'name': 'Геннадий Покемонов'},\n",
    " {'type': 'insurance', 'number': '10006', 'name': 'Аристарх Павлов'}\n",
    "]\n",
    "directories = {\n",
    " '1': ['111','222'],\n",
    " '2': ['11-2','3332'],\n",
    " '3': ['10006','222331'],\n",
    " '4': ['3232'],\n",
    " '5': ['32323']\n",
    "}\n",
    "doc_fff = '32323'\n",
    "print('Документ на полке: ', [(items) for (items,v) in directories.items() for v in v if v == doc_fff])"
   ]
  },
  {
   "cell_type": "code",
   "execution_count": 286,
   "metadata": {},
   "outputs": [
    {
     "name": "stdout",
     "output_type": "stream",
     "text": [
      "['Аристарх Павлов']\n"
     ]
    }
   ],
   "source": [
    "documents = [\n",
    " {'type': 'passport', 'number': '2207 876234', 'name': 'Василий Гупкин'},\n",
    " {'type': 'invoice', 'number': '11-2', 'name': 'Геннадий Покемонов'},\n",
    " {'type': 'insurance', 'number': '10006', 'name': 'Аристарх Павлов'}\n",
    "]\n",
    "item = 0\n",
    "doc = '10006'\n",
    "print([item['name'] for item in documents if item['number'] == doc])"
   ]
  },
  {
   "cell_type": "code",
   "execution_count": 334,
   "metadata": {},
   "outputs": [
    {
     "name": "stdout",
     "output_type": "stream",
     "text": [
      "№:2207 876234, Документ - passport, Имя: Василий Гупкин\n",
      "№:11-2, Документ - invoice, Имя: Геннадий Покемонов\n",
      "№:10006, Документ - insurance, Имя: Аристарх Павлов\n"
     ]
    }
   ],
   "source": [
    "documents = [\n",
    " {'type': 'passport', 'number': '2207 876234', 'name': 'Василий Гупкин'},\n",
    " {'type': 'invoice', 'number': '11-2', 'name': 'Геннадий Покемонов'},\n",
    " {'type': 'insurance', 'number': '10006', 'name': 'Аристарх Павлов'}\n",
    "]\n",
    "\n",
    "for type_doc in documents:\n",
    "    print(f\"№:{type_doc['number']} Документ - {type_doc['type']}, Имя: {type_doc['name']}\")"
   ]
  },
  {
   "cell_type": "code",
   "execution_count": 346,
   "metadata": {},
   "outputs": [
    {
     "name": "stdin",
     "output_type": "stream",
     "text": [
      " 6\n"
     ]
    },
    {
     "data": {
      "text/plain": [
       "{'1': ['111', '222'],\n",
       " '2': ['11-2', '3332'],\n",
       " '3': ['10006', '222331'],\n",
       " '4': ['3232'],\n",
       " '5': ['32323'],\n",
       " '6': []}"
      ]
     },
     "execution_count": 346,
     "metadata": {},
     "output_type": "execute_result"
    }
   ],
   "source": [
    "directories = {\n",
    " '1': ['111','222'],\n",
    " '2': ['11-2','3332'],\n",
    " '3': ['10006','222331'],\n",
    " '4': ['3232'],\n",
    " '5': ['32323']\n",
    "}\n",
    "\n",
    "direct = str(input())\n",
    "if direct in [v for v in directories.keys() for v in v]:\n",
    "    print('Такая полка уже есть!')\n",
    "else:\n",
    "    directories.setdefault(direct,[])\n",
    "directories"
   ]
  },
  {
   "cell_type": "code",
   "execution_count": 13,
   "metadata": {},
   "outputs": [
    {
     "name": "stdin",
     "output_type": "stream",
     "text": [
      " 6\n"
     ]
    },
    {
     "name": "stdout",
     "output_type": "stream",
     "text": [
      "hui\n",
      "{'1': ['111', '222'], '2': ['11-2', '3332'], '3': ['10006', '222331'], '4': ['3232'], '5': ['32323']}\n"
     ]
    }
   ],
   "source": [
    "#удаление полки\n",
    "directories = {\n",
    "    '1': ['111','222'],\n",
    "    '2': ['11-2','3332'],\n",
    "    '3': ['10006','222331'],\n",
    "    '4': ['3232'],\n",
    "    '5': ['32323'],\n",
    "    '6': []\n",
    "}\n",
    "\n",
    "direct = str(input())\n",
    "if len(directories[direct]) == 0:\n",
    "    print('hui')\n",
    "    directories.pop(direct)\n",
    "    print(directories)\n",
    "else:\n",
    "    print('pizda')"
   ]
  },
  {
   "cell_type": "code",
   "execution_count": 34,
   "metadata": {},
   "outputs": [
    {
     "name": "stdin",
     "output_type": "stream",
     "text": [
      "Введите тип документа:  5\n",
      "Ведите номер документа:  4\n",
      "Введите Имя Фамилию лица:  5\n"
     ]
    },
    {
     "name": "stdout",
     "output_type": "stream",
     "text": [
      "\n",
      " №:2207 876234 Документ - passport, Имя: Василий Гупкин\n",
      "\n",
      " №:11-2 Документ - invoice, Имя: Геннадий Покемонов\n",
      "\n",
      " №:10006 Документ - insurance, Имя: Аристарх Павлов\n",
      "\n",
      " №:4 Документ - 5, Имя: 5\n"
     ]
    }
   ],
   "source": [
    "documents = [\n",
    " {'type': 'passport', 'number': '2207 876234', 'name': 'Василий Гупкин'},\n",
    " {'type': 'invoice', 'number': '11-2', 'name': 'Геннадий Покемонов'},\n",
    " {'type': 'insurance', 'number': '10006', 'name': 'Аристарх Павлов'}\n",
    "]\n",
    "person['type'] = str(input('Введите тип документа: '))\n",
    "person['number'] = str(input('Ведите номер документа: '))\n",
    "person['name'] = str(input('Введите Имя Фамилию лица: '))\n",
    "documents.append(person)\n",
    "\n",
    "for type_doc in documents:\n",
    "    print(f\"\\n №:{type_doc['number']} Документ - {type_doc['type']}, Имя: {type_doc['name']}\")"
   ]
  },
  {
   "cell_type": "code",
   "execution_count": 92,
   "metadata": {},
   "outputs": [
    {
     "name": "stdin",
     "output_type": "stream",
     "text": [
      " 4\n",
      " 8484\n"
     ]
    },
    {
     "name": "stdout",
     "output_type": "stream",
     "text": [
      "{'1': ['111', '222'], '2': ['11-2', '3332'], '3': ['10006', '222331'], '4': ['3232', '8484'], '5': ['32323', '2207 876234']}\n"
     ]
    }
   ],
   "source": [
    "documents = [\n",
    " {'type': 'passport', 'number': '2207 876234', 'name': 'Василий Гупкин'},\n",
    " {'type': 'invoice', 'number': '11-2', 'name': 'Геннадий Покемонов'},\n",
    " {'type': 'insurance', 'number': '10006', 'name': 'Аристарх Павлов'}\n",
    "]\n",
    "directories = {\n",
    " '1': ['111','222'],\n",
    " '2': ['11-2','3332'],\n",
    " '3': ['10006','222331'],\n",
    " '4': ['3232'],\n",
    " '5': ['32323','2207 876234']\n",
    "}\n",
    "\n",
    "def is_document_exist (doc_number):\n",
    "    return (doc_number in [v for v in directories.values() for v in v])\n",
    "\n",
    "def search_document_in_directories (doc_number):\n",
    "     return ' '.join([(items) for (items, v) in directories.items() for v in v if v == doc_number])\n",
    "\n",
    "def show_all_documents ():\n",
    "    for document in documents:\n",
    "        print(f\"№:{document['number']} Документ - {document['type']}, Имя: {document['name']} \")\n",
    "        s = (search_document_in_directories(document['number']))\n",
    "        print(s)\n",
    "\n",
    "        \n",
    "def add_person():\n",
    "        shelf = str(input())\n",
    "        doc = str(input())\n",
    "        directories_item = (directories[shelf]).append(doc)\n",
    "        directories.setdefault(shelf,doc)\n",
    "        print(directories)\n",
    "add_person()"
   ]
  },
  {
   "cell_type": "code",
   "execution_count": null,
   "metadata": {},
   "outputs": [],
   "source": []
  }
 ],
 "metadata": {
  "kernelspec": {
   "display_name": "Python 3",
   "language": "python",
   "name": "python3"
  },
  "language_info": {
   "codemirror_mode": {
    "name": "ipython",
    "version": 3
   },
   "file_extension": ".py",
   "mimetype": "text/x-python",
   "name": "python",
   "nbconvert_exporter": "python",
   "pygments_lexer": "ipython3",
   "version": "3.8.3"
  }
 },
 "nbformat": 4,
 "nbformat_minor": 4
}
